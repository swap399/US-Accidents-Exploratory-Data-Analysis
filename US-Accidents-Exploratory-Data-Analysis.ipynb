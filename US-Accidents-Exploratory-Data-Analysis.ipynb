US Accidents Exploratory Data Analysis
1. Import libraries

import numpy as np

import pandas as pd

import matplotlib.pyplot as plt

import seaborn as sns

Download Data

    Read data
        Data Prepration
    Understaning Data
    Raw Information about Dataset

df = pd.read_csv("US_Accidents_Dec20_updated.csv")

df

	ID 	Severity 	Start_Time 	End_Time 	Start_Lat 	Start_Lng 	End_Lat 	End_Lng 	Distance(mi) 	Description 	... 	Roundabout 	Station 	Stop 	Traffic_Calming 	Traffic_Signal 	Turning_Loop 	Sunrise_Sunset 	Civil_Twilight 	Nautical_Twilight 	Astronomical_Twilight
0 	A-2716600 	3 	2016-02-08 00:37:08 	2016-02-08 06:37:08 	40.10891 	-83.09286 	40.11206 	-83.03187 	3.230 	Between Sawmill Rd/Exit 20 and OH-315/Olentang... 	... 	False 	False 	False 	False 	False 	False 	Night 	Night 	Night 	Night
1 	A-2716601 	2 	2016-02-08 05:56:20 	2016-02-08 11:56:20 	39.86542 	-84.06280 	39.86501 	-84.04873 	0.747 	At OH-4/OH-235/Exit 41 - Accident. 	... 	False 	False 	False 	False 	False 	False 	Night 	Night 	Night 	Night
2 	A-2716602 	2 	2016-02-08 06:15:39 	2016-02-08 12:15:39 	39.10266 	-84.52468 	39.10209 	-84.52396 	0.055 	At I-71/US-50/Exit 1 - Accident. 	... 	False 	False 	False 	False 	False 	False 	Night 	Night 	Night 	Day
3 	A-2716603 	2 	2016-02-08 06:15:39 	2016-02-08 12:15:39 	39.10148 	-84.52341 	39.09841 	-84.52241 	0.219 	At I-71/US-50/Exit 1 - Accident. 	... 	False 	False 	False 	False 	False 	False 	Night 	Night 	Night 	Day
4 	A-2716604 	2 	2016-02-08 06:51:45 	2016-02-08 12:51:45 	41.06213 	-81.53784 	41.06217 	-81.53547 	0.123 	At Dart Ave/Exit 21 - Accident. 	... 	False 	False 	False 	False 	False 	False 	Night 	Night 	Day 	Day
... 	... 	... 	... 	... 	... 	... 	... 	... 	... 	... 	... 	... 	... 	... 	... 	... 	... 	... 	... 	... 	...
1516059 	A-4239402 	2 	2019-08-23 18:03:25 	2019-08-23 18:32:01 	34.00248 	-117.37936 	33.99888 	-117.37094 	0.543 	At Market St - Accident. 	... 	False 	False 	False 	False 	False 	False 	Day 	Day 	Day 	Day
1516060 	A-4239403 	2 	2019-08-23 19:11:30 	2019-08-23 19:38:23 	32.76696 	-117.14806 	32.76555 	-117.15363 	0.338 	At Camino Del Rio/Mission Center Rd - Accident. 	... 	False 	False 	False 	False 	False 	False 	Day 	Day 	Day 	Day
1516061 	A-4239404 	2 	2019-08-23 19:00:21 	2019-08-23 19:28:49 	33.77545 	-117.84779 	33.77740 	-117.85727 	0.561 	At Glassell St/Grand Ave - Accident. in the ri... 	... 	False 	False 	False 	False 	False 	False 	Day 	Day 	Day 	Day
1516062 	A-4239405 	2 	2019-08-23 19:00:21 	2019-08-23 19:29:42 	33.99246 	-118.40302 	33.98311 	-118.39565 	0.772 	At CA-90/Marina Fwy/Jefferson Blvd - Accident. 	... 	False 	False 	False 	False 	False 	False 	Day 	Day 	Day 	Day
1516063 	A-4239406 	2 	2019-08-23 18:52:06 	2019-08-23 19:21:31 	34.13393 	-117.23092 	34.13736 	-117.23934 	0.537 	At Highland Ave/Arden Ave - Accident. 	... 	False 	False 	False 	False 	False 	False 	Day 	Day 	Day 	Day

1516064 rows × 47 columns

df.shape

(1516064, 47)

df.info()

<class 'pandas.core.frame.DataFrame'>
RangeIndex: 1516064 entries, 0 to 1516063
Data columns (total 47 columns):
 #   Column                 Non-Null Count    Dtype  
---  ------                 --------------    -----  
 0   ID                     1516064 non-null  object 
 1   Severity               1516064 non-null  int64  
 2   Start_Time             1516064 non-null  object 
 3   End_Time               1516064 non-null  object 
 4   Start_Lat              1516064 non-null  float64
 5   Start_Lng              1516064 non-null  float64
 6   End_Lat                1516064 non-null  float64
 7   End_Lng                1516064 non-null  float64
 8   Distance(mi)           1516064 non-null  float64
 9   Description            1516064 non-null  object 
 10  Number                 469969 non-null   float64
 11  Street                 1516064 non-null  object 
 12  Side                   1516064 non-null  object 
 13  City                   1515981 non-null  object 
 14  County                 1516064 non-null  object 
 15  State                  1516064 non-null  object 
 16  Zipcode                1515129 non-null  object 
 17  Country                1516064 non-null  object 
 18  Timezone               1513762 non-null  object 
 19  Airport_Code           1511816 non-null  object 
 20  Weather_Timestamp      1485800 non-null  object 
 21  Temperature(F)         1473031 non-null  float64
 22  Wind_Chill(F)          1066748 non-null  float64
 23  Humidity(%)            1470555 non-null  float64
 24  Pressure(in)           1479790 non-null  float64
 25  Visibility(mi)         1471853 non-null  float64
 26  Wind_Direction         1474206 non-null  object 
 27  Wind_Speed(mph)        1387202 non-null  float64
 28  Precipitation(in)      1005515 non-null  float64
 29  Weather_Condition      1472057 non-null  object 
 30  Amenity                1516064 non-null  bool   
 31  Bump                   1516064 non-null  bool   
 32  Crossing               1516064 non-null  bool   
 33  Give_Way               1516064 non-null  bool   
 34  Junction               1516064 non-null  bool   
 35  No_Exit                1516064 non-null  bool   
 36  Railway                1516064 non-null  bool   
 37  Roundabout             1516064 non-null  bool   
 38  Station                1516064 non-null  bool   
 39  Stop                   1516064 non-null  bool   
 40  Traffic_Calming        1516064 non-null  bool   
 41  Traffic_Signal         1516064 non-null  bool   
 42  Turning_Loop           1516064 non-null  bool   
 43  Sunrise_Sunset         1515981 non-null  object 
 44  Civil_Twilight         1515981 non-null  object 
 45  Nautical_Twilight      1515981 non-null  object 
 46  Astronomical_Twilight  1515981 non-null  object 
dtypes: bool(13), float64(13), int64(1), object(20)
memory usage: 412.1+ MB

df.columns

Index(['ID', 'Severity', 'Start_Time', 'End_Time', 'Start_Lat', 'Start_Lng',
       'End_Lat', 'End_Lng', 'Distance(mi)', 'Description', 'Number', 'Street',
       'Side', 'City', 'County', 'State', 'Zipcode', 'Country', 'Timezone',
       'Airport_Code', 'Weather_Timestamp', 'Temperature(F)', 'Wind_Chill(F)',
       'Humidity(%)', 'Pressure(in)', 'Visibility(mi)', 'Wind_Direction',
       'Wind_Speed(mph)', 'Precipitation(in)', 'Weather_Condition', 'Amenity',
       'Bump', 'Crossing', 'Give_Way', 'Junction', 'No_Exit', 'Railway',
       'Roundabout', 'Station', 'Stop', 'Traffic_Calming', 'Traffic_Signal',
       'Turning_Loop', 'Sunrise_Sunset', 'Civil_Twilight', 'Nautical_Twilight',
       'Astronomical_Twilight'],
      dtype='object')

​

# Dataframe Statistics

df.describe()

	Severity 	Start_Lat 	Start_Lng 	End_Lat 	End_Lng 	Distance(mi) 	Number 	Temperature(F) 	Wind_Chill(F) 	Humidity(%) 	Pressure(in) 	Visibility(mi) 	Wind_Speed(mph) 	Precipitation(in)
count 	1.516064e+06 	1.516064e+06 	1.516064e+06 	1.516064e+06 	1.516064e+06 	1.516064e+06 	4.699690e+05 	1.473031e+06 	1.066748e+06 	1.470555e+06 	1.479790e+06 	1.471853e+06 	1.387202e+06 	1.005515e+06
mean 	2.238630e+00 	3.690056e+01 	-9.859919e+01 	3.690061e+01 	-9.859901e+01 	5.872617e-01 	8.907533e+03 	5.958460e+01 	5.510976e+01 	6.465960e+01 	2.955495e+01 	9.131755e+00 	7.630812e+00 	8.477855e-03
std 	6.081481e-01 	5.165653e+00 	1.849602e+01 	5.165629e+00 	1.849590e+01 	1.632659e+00 	2.242190e+04 	1.827316e+01 	2.112735e+01 	2.325986e+01 	1.016756e+00 	2.889112e+00 	5.637364e+00 	1.293168e-01
min 	1.000000e+00 	2.457022e+01 	-1.244976e+02 	2.457011e+01 	-1.244978e+02 	0.000000e+00 	0.000000e+00 	-8.900000e+01 	-8.900000e+01 	1.000000e+00 	0.000000e+00 	0.000000e+00 	0.000000e+00 	0.000000e+00
25% 	2.000000e+00 	3.385422e+01 	-1.182076e+02 	3.385420e+01 	-1.182077e+02 	0.000000e+00 	1.212000e+03 	4.700000e+01 	4.080000e+01 	4.800000e+01 	2.944000e+01 	1.000000e+01 	4.600000e+00 	0.000000e+00
50% 	2.000000e+00 	3.735113e+01 	-9.438100e+01 	3.735134e+01 	-9.437987e+01 	1.780000e-01 	4.000000e+03 	6.100000e+01 	5.700000e+01 	6.800000e+01 	2.988000e+01 	1.000000e+01 	7.000000e+00 	0.000000e+00
75% 	2.000000e+00 	4.072593e+01 	-8.087469e+01 	4.072593e+01 	-8.087449e+01 	5.940000e-01 	1.010000e+04 	7.300000e+01 	7.100000e+01 	8.400000e+01 	3.004000e+01 	1.000000e+01 	1.040000e+01 	0.000000e+00
max 	4.000000e+00 	4.900058e+01 	-6.711317e+01 	4.907500e+01 	-6.710924e+01 	1.551860e+02 	9.999997e+06 	1.706000e+02 	1.130000e+02 	1.000000e+02 	5.804000e+01 	1.400000e+02 	9.840000e+02 	2.400000e+01

numerics = ['int16', 'int32','int64', 'float16', 'float32', 'float64']

​

numeic_df = df.select_dtypes(include=numerics)

len(numeic_df.columns)

14

Insights :

    Total 14 Column are in numeric data types

2. Check for Missing Values

df.isna().sum()

# df.isnull().sum()  Comman same as above Results : Total number of missing values present in dataset

ID                             0
Severity                       0
Start_Time                     0
End_Time                       0
Start_Lat                      0
Start_Lng                      0
End_Lat                        0
End_Lng                        0
Distance(mi)                   0
Description                    0
Number                   1046095
Street                         0
Side                           0
City                          83
County                         0
State                          0
Zipcode                      935
Country                        0
Timezone                    2302
Airport_Code                4248
Weather_Timestamp          30264
Temperature(F)             43033
Wind_Chill(F)             449316
Humidity(%)                45509
Pressure(in)               36274
Visibility(mi)             44211
Wind_Direction             41858
Wind_Speed(mph)           128862
Precipitation(in)         510549
Weather_Condition          44007
Amenity                        0
Bump                           0
Crossing                       0
Give_Way                       0
Junction                       0
No_Exit                        0
Railway                        0
Roundabout                     0
Station                        0
Stop                           0
Traffic_Calming                0
Traffic_Signal                 0
Turning_Loop                   0
Sunrise_Sunset                83
Civil_Twilight                83
Nautical_Twilight             83
Astronomical_Twilight         83
dtype: int64

# Calculate Missin vales Percentage

missing_perc = (df.isna().sum().sort_values(ascending = False) / len(df))*100

missing_perc = missing_perc[missing_perc>1]

missing_perc

Number               69.000715
Precipitation(in)    33.675953
Wind_Chill(F)        29.637007
Wind_Speed(mph)       8.499773
Humidity(%)           3.001786
Visibility(mi)        2.916170
Weather_Condition     2.902714
Temperature(F)        2.838469
Wind_Direction        2.760965
Pressure(in)          2.392643
Weather_Timestamp     1.996222
dtype: float64

missing_perc.plot(kind = 'barh')

plt.show()

3. Exploratory Data Analysis & Visualization
Column we Analyze

    City
    Start Time
    Start Lat, Start Lng
    Temperature
    Weather Condition

df.columns

Index(['ID', 'Severity', 'Start_Time', 'End_Time', 'Start_Lat', 'Start_Lng',
       'End_Lat', 'End_Lng', 'Distance(mi)', 'Description', 'Number', 'Street',
       'Side', 'City', 'County', 'State', 'Zipcode', 'Country', 'Timezone',
       'Airport_Code', 'Weather_Timestamp', 'Temperature(F)', 'Wind_Chill(F)',
       'Humidity(%)', 'Pressure(in)', 'Visibility(mi)', 'Wind_Direction',
       'Wind_Speed(mph)', 'Precipitation(in)', 'Weather_Condition', 'Amenity',
       'Bump', 'Crossing', 'Give_Way', 'Junction', 'No_Exit', 'Railway',
       'Roundabout', 'Station', 'Stop', 'Traffic_Calming', 'Traffic_Signal',
       'Turning_Loop', 'Sunrise_Sunset', 'Civil_Twilight', 'Nautical_Twilight',
       'Astronomical_Twilight'],
      dtype='object')

# 1. City

citi_Lst = df.City.unique()

len(citi_Lst)

10658

city_by_acc = df.City.value_counts()

city_by_acc

Los Angeles    39984
Miami          36233
Charlotte      22203
Houston        20843
Dallas         19497
               ...  
Withee             1
Savona             1
Oswayo             1
Pellston           1
Nemaha             1
Name: City, Length: 10657, dtype: int64

len(df.State.unique())

49

city_by_acc[:15].plot(kind='barh')

<AxesSubplot:>

​

sns.set_style("darkgrid")

sns.histplot(city_by_acc,log_scale=True)

plt.show()

high_acc_city = city_by_acc[city_by_acc >= 1000]

low_acc_city = city_by_acc[city_by_acc < 1000]

(len(high_acc_city)/len(citi_Lst))*100

2.3550384687558643

sns.histplot(high_acc_city, log_scale=True)

<AxesSubplot:xlabel='City', ylabel='Count'>

sns.distplot(low_acc_city)

C:\ProgramData\Anaconda3\lib\site-packages\seaborn\distributions.py:2557: FutureWarning: `distplot` is a deprecated function and will be removed in a future version. Please adapt your code to use either `displot` (a figure-level function with similar flexibility) or `histplot` (an axes-level function for histograms).
  warnings.warn(msg, FutureWarning)

<AxesSubplot:xlabel='City', ylabel='Density'>

city_by_acc[city_by_acc == 1]

Tignall       1
Mine Hill     1
Waldoboro     1
Zavalla       1
Idaho City    1
             ..
Withee        1
Savona        1
Oswayo        1
Pellston      1
Nemaha        1
Name: City, Length: 1167, dtype: int64

Start Time Column

df.Start_Time[0]

'2016-02-08 00:37:08'

# we need to convert into date time format

df.Start_Time = pd.to_datetime(df.Start_Time)

df.Start_Time

0         2016-02-08 00:37:08
1         2016-02-08 05:56:20
2         2016-02-08 06:15:39
3         2016-02-08 06:15:39
4         2016-02-08 06:51:45
                  ...        
1516059   2019-08-23 18:03:25
1516060   2019-08-23 19:11:30
1516061   2019-08-23 19:00:21
1516062   2019-08-23 19:00:21
1516063   2019-08-23 18:52:06
Name: Start_Time, Length: 1516064, dtype: datetime64[ns]

sns.histplot(df.Start_Time.dt.hour, bins=24)

plt.show()

    High Percentage of acciedents occure
    between 4 pm to 6 pm (Probably its Office & school trmination time)
    next hiest percentgae between 7am to 9am

sns.distplot(df.Start_Time.dt.day_of_week, bins=24,norm_hist=False)

C:\ProgramData\Anaconda3\lib\site-packages\seaborn\distributions.py:2557: FutureWarning: `distplot` is a deprecated function and will be removed in a future version. Please adapt your code to use either `displot` (a figure-level function with similar flexibility) or `histplot` (an axes-level function for histograms).
  warnings.warn(msg, FutureWarning)

<AxesSubplot:xlabel='Start_Time', ylabel='Density'>

sunday_start_time = df.Start_Time[df.Start_Time.dt.dayofweek == 6]

sns.distplot(sunday_start_time.dt.hour,bins=24)

C:\ProgramData\Anaconda3\lib\site-packages\seaborn\distributions.py:2557: FutureWarning: `distplot` is a deprecated function and will be removed in a future version. Please adapt your code to use either `displot` (a figure-level function with similar flexibility) or `histplot` (an axes-level function for histograms).
  warnings.warn(msg, FutureWarning)

<AxesSubplot:xlabel='Start_Time', ylabel='Density'>

Insights :

    On Sunday peak Accidents occure between 4 pm to 23 pm

monday_start_time = df.Start_Time[df.Start_Time.dt.dayofweek == 0]

sns.distplot(monday_start_time.dt.hour,bins=24, kde= False)

C:\ProgramData\Anaconda3\lib\site-packages\seaborn\distributions.py:2557: FutureWarning: `distplot` is a deprecated function and will be removed in a future version. Please adapt your code to use either `displot` (a figure-level function with similar flexibility) or `histplot` (an axes-level function for histograms).
  warnings.warn(msg, FutureWarning)

<AxesSubplot:xlabel='Start_Time'>

monday_start_time = df.Start_Time[df.Start_Time.dt.dayofweek == 0]

sns.distplot(monday_start_time.dt.month,bins=24, kde= False)

C:\ProgramData\Anaconda3\lib\site-packages\seaborn\distributions.py:2557: FutureWarning: `distplot` is a deprecated function and will be removed in a future version. Please adapt your code to use either `displot` (a figure-level function with similar flexibility) or `histplot` (an axes-level function for histograms).
  warnings.warn(msg, FutureWarning)

<AxesSubplot:xlabel='Start_Time'>

Year_2019 = df.Start_Time[df.Start_Time.dt.year == 2019]

sns.distplot(Year_2019.dt.month,bins=24, kde= False)

C:\ProgramData\Anaconda3\lib\site-packages\seaborn\distributions.py:2557: FutureWarning: `distplot` is a deprecated function and will be removed in a future version. Please adapt your code to use either `displot` (a figure-level function with similar flexibility) or `histplot` (an axes-level function for histograms).
  warnings.warn(msg, FutureWarning)

<AxesSubplot:xlabel='Start_Time'>

Year_2018 = df.Start_Time[df.Start_Time.dt.year == 2018]

sns.distplot(Year_2018.dt.month,bins=24, kde= False)

C:\ProgramData\Anaconda3\lib\site-packages\seaborn\distributions.py:2557: FutureWarning: `distplot` is a deprecated function and will be removed in a future version. Please adapt your code to use either `displot` (a figure-level function with similar flexibility) or `histplot` (an axes-level function for histograms).
  warnings.warn(msg, FutureWarning)

<AxesSubplot:xlabel='Start_Time'>

Year_2017 = df.Start_Time[df.Start_Time.dt.year == 2017]

sns.distplot(Year_2017.dt.month,bins=24, kde= False)

C:\ProgramData\Anaconda3\lib\site-packages\seaborn\distributions.py:2557: FutureWarning: `distplot` is a deprecated function and will be removed in a future version. Please adapt your code to use either `displot` (a figure-level function with similar flexibility) or `histplot` (an axes-level function for histograms).
  warnings.warn(msg, FutureWarning)

<AxesSubplot:xlabel='Start_Time'>

3. Satrt Latitude & Start Longitude

df.Start_Lat

0          40.10891
1          39.86542
2          39.10266
3          39.10148
4          41.06213
             ...   
1516059    34.00248
1516060    32.76696
1516061    33.77545
1516062    33.99246
1516063    34.13393
Name: Start_Lat, Length: 1516064, dtype: float64

df.Start_Lng

0          -83.09286
1          -84.06280
2          -84.52468
3          -84.52341
4          -81.53784
             ...    
1516059   -117.37936
1516060   -117.14806
1516061   -117.84779
1516062   -118.40302
1516063   -117.23092
Name: Start_Lng, Length: 1516064, dtype: float64

sns.scatterplot(x=df.Start_Lng,y=df.Start_Lat)

<AxesSubplot:xlabel='Start_Lng', ylabel='Start_Lat'>

!pip install folium

Requirement already satisfied: folium in c:\programdata\anaconda3\lib\site-packages (0.12.1.post1)
Requirement already satisfied: jinja2>=2.9 in c:\programdata\anaconda3\lib\site-packages (from folium) (2.11.3)
Requirement already satisfied: numpy in c:\programdata\anaconda3\lib\site-packages (from folium) (1.20.1)
Requirement already satisfied: requests in c:\programdata\anaconda3\lib\site-packages (from folium) (2.25.1)
Requirement already satisfied: branca>=0.3.0 in c:\programdata\anaconda3\lib\site-packages (from folium) (0.4.2)
Requirement already satisfied: MarkupSafe>=0.23 in c:\programdata\anaconda3\lib\site-packages (from jinja2>=2.9->folium) (1.1.1)
Requirement already satisfied: chardet<5,>=3.0.2 in c:\programdata\anaconda3\lib\site-packages (from requests->folium) (4.0.0)
Requirement already satisfied: certifi>=2017.4.17 in c:\programdata\anaconda3\lib\site-packages (from requests->folium) (2020.12.5)
Requirement already satisfied: urllib3<1.27,>=1.21.1 in c:\programdata\anaconda3\lib\site-packages (from requests->folium) (1.26.4)
Requirement already satisfied: idna<3,>=2.5 in c:\programdata\anaconda3\lib\site-packages (from requests->folium) (2.10)

import folium

from folium import plugins

from folium.plugins import HeatMap

zip(list(df.Start_Lat), list(df.Start_Lng))

<zip at 0x206a06ba700>

map = folium.Map()

map

# for lat, lon in

# marker = folium.marker((lat,lon))

# marker.add_to(map)

# map

​

HeatMap(zip(list(df.Start_Lat), list(df.Start_Lng))).add_to(map)

map

Make this Notebook Trusted to load map: File -> Trust Notebook

​

​

Summery & Conclusion
Insights :

    No Data From New York
    The Number of accidents per city decreases exponetially.
    Less than 4% of Cities have more than 1000 Yearly Accidents.
    1167 Cities have reported one Accidents.

